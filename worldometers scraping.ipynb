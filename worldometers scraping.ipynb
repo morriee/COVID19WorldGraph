{
 "cells": [
  {
   "cell_type": "markdown",
   "metadata": {},
   "source": [
    "# worldometers table scraping"
   ]
  },
  {
   "cell_type": "markdown",
   "metadata": {},
   "source": [
    "## extracting text form html table"
   ]
  },
  {
   "cell_type": "code",
   "execution_count": 1,
   "metadata": {},
   "outputs": [],
   "source": [
    "import requests\n",
    "import urllib.request\n",
    "from bs4 import BeautifulSoup\n",
    "import pandas as pd\n",
    "import numpy as np\n",
    "import datetime\n",
    "from pprint import pprint\n",
    "\n",
    "fileDay = datetime.date.today().strftime('%m%d')\n",
    "\n",
    "df = None\n",
    "\n",
    "colList = []  \n",
    "country = []\n",
    "totCase = []\n",
    "newCase = []\n",
    "totDeath = []\n",
    "newDeath = []\n",
    "totRecov = []\n",
    "actCase = []\n",
    "serious = []\n",
    "totCasePer1M = []\n",
    "\n",
    "allList = [colList, country, totCase, newCase, totDeath, newDeath, totRecov, actCase, serious, totCasePer1M]\n",
    "\n",
    "def colClear():\n",
    "    for i in allList:\n",
    "        i.clear()\n",
    "\n",
    "def scrapingWorldometers(yda=False):\n",
    "    url = \"https://www.worldometers.info/coronavirus/\"\n",
    "    html = requests.get(url).text\n",
    "    soup = BeautifulSoup(html, 'html.parser')\n",
    "    \n",
    "    if yda:\n",
    "        table = soup.select_one('table#main_table_countries_yesterday')\n",
    "    else:\n",
    "        table = soup.select_one('table#main_table_countries_today')\n",
    "    #pprint(table)\n",
    "\n",
    "    columns = table.select('tr')\n",
    "    isCol = True\n",
    "    colClear()\n",
    "\n",
    "    for col in columns:\n",
    "        if isCol:\n",
    "            cols = col.select('th')\n",
    "            for c in cols:\n",
    "                colList.append(c.text)\n",
    "            isCol = False\n",
    "        else:\n",
    "            rows = col.select('td')\n",
    "            country.append(rows[0].text)\n",
    "            totCase.append(rows[1].text)\n",
    "            newCase.append(rows[2].text)\n",
    "            totDeath.append(rows[3].text)\n",
    "            newDeath.append(rows[4].text)\n",
    "            totRecov.append(rows[5].text)\n",
    "            actCase.append(rows[6].text)\n",
    "            serious.append(rows[7].text)\n",
    "            totCasePer1M.append(rows[8].text)\n",
    "    # 'Tot\\xa0Cases/1M pop' => 'Tot Cases/1M pop'\n",
    "    colList[8] = 'Tot Cases/1M pop'"
   ]
  },
  {
   "cell_type": "markdown",
   "metadata": {},
   "source": [
    "## making dataframe, json, csv"
   ]
  },
  {
   "cell_type": "code",
   "execution_count": 2,
   "metadata": {},
   "outputs": [],
   "source": [
    "def dfProcessing():\n",
    "    \n",
    "    # Réunion, Curaçao => Reunion, Curacao \n",
    "    idx = country.index(\"Réunion\")\n",
    "    country[idx] = \"Reunion\"\n",
    "    \n",
    "    idx = country.index(\"Curaçao\")\n",
    "    country[idx] = \"Curacao\"\n",
    "    \n",
    "    df = pd.DataFrame(columns=colList)\n",
    "    df.iloc[:,0] = country\n",
    "    df.iloc[:,1] = totCase\n",
    "    df.iloc[:,2] = newCase\n",
    "    df.iloc[:,3] = totDeath\n",
    "    df.iloc[:,4] = newDeath\n",
    "    df.iloc[:,5] = totRecov\n",
    "    df.iloc[:,6] = actCase\n",
    "    df.iloc[:,7] = serious\n",
    "    df.iloc[:,8] = totCasePer1M\n",
    "    \n",
    "    df = df.set_index('Country,Other')\n",
    "\n",
    "    astypeDict = dict.fromkeys(df.columns, np.int)\n",
    "    astypeDict['Tot Cases/1M pop'] = np.float\n",
    "\n",
    "    df = df.replace(',','', regex=True)\n",
    "    df = df.replace('', 0)\n",
    "    df = df.replace(' ', 0)\n",
    "    df.astype(astypeDict).dtypes\n",
    "    return df\n",
    "\n",
    "def toCSV(df, yda=False):\n",
    "    if yda:\n",
    "        csvFile = './covidDataset/' + fileDay + 'ydaCoronaWorld.csv'\n",
    "        df.to_csv(csvFile)\n",
    "        print(fileDay, \"yesterday csv complete\")\n",
    "    else:\n",
    "        csvFile = './covidDataset/' + fileDay + 'tdaCoronaWorld.csv'\n",
    "        df.to_csv(csvFile)\n",
    "        print(fileDay, \"today csv complete\")\n",
    "    \n",
    "def toJSON(df, yda=False):\n",
    "    if yda:\n",
    "        jsonFile = './covidDataset/' + fileDay + 'ydaCoronaWorld.json'\n",
    "        df.to_json(jsonFile, orient='table')\n",
    "        print(fileDay, \"yesterday json complete\")\n",
    "    else:\n",
    "        jsonFile = './covidDataset/' + fileDay + 'tdaCoronaWorld.json'\n",
    "        df.to_json(jsonFile, orient='table')\n",
    "        print(fileDay, \"today json complete\")"
   ]
  },
  {
   "cell_type": "markdown",
   "metadata": {},
   "source": [
    "## today files"
   ]
  },
  {
   "cell_type": "code",
   "execution_count": 3,
   "metadata": {},
   "outputs": [
    {
     "name": "stdout",
     "output_type": "stream",
     "text": [
      "0320 today csv complete\n",
      "0320 today json complete\n"
     ]
    }
   ],
   "source": [
    "scrapingWorldometers()\n",
    "df = dfProcessing()\n",
    "toCSV(df)\n",
    "toJSON(df)"
   ]
  },
  {
   "cell_type": "markdown",
   "metadata": {},
   "source": [
    "## yesterday files"
   ]
  },
  {
   "cell_type": "code",
   "execution_count": 4,
   "metadata": {},
   "outputs": [
    {
     "name": "stdout",
     "output_type": "stream",
     "text": [
      "0320 yesterday csv complete\n",
      "0320 yesterday json complete\n"
     ]
    }
   ],
   "source": [
    "scrapingWorldometers(yda=True)\n",
    "df = dfProcessing()\n",
    "toCSV(df, yda=True)\n",
    "toJSON(df, yda=True)"
   ]
  },
  {
   "cell_type": "code",
   "execution_count": null,
   "metadata": {},
   "outputs": [],
   "source": []
  }
 ],
 "metadata": {
  "kernelspec": {
   "display_name": "Python 3",
   "language": "python",
   "name": "python3"
  },
  "language_info": {
   "codemirror_mode": {
    "name": "ipython",
    "version": 3
   },
   "file_extension": ".py",
   "mimetype": "text/x-python",
   "name": "python",
   "nbconvert_exporter": "python",
   "pygments_lexer": "ipython3",
   "version": "3.7.6"
  }
 },
 "nbformat": 4,
 "nbformat_minor": 4
}
